{
 "cells": [
  {
   "cell_type": "markdown",
   "metadata": {},
   "source": [
    " # QLBS model for European Options\n",
    " \n",
    "Part 1 of the notebook will hedge then price an option with a recursive dynamic programming solution (DP), an on-policy with risk aversion parameter.\n",
    "\n",
    "Part 2 of the notebook will hedge then price an option with the same DP solution but with transaction costs added to the hedging process.\n",
    "\n",
    "Part 3 will be on Fitted Q-Iteration (FQI) in a model-free, off policy setup to learn the optimal price and hedge directly from MC or historical data."
   ]
  },
  {
   "cell_type": "markdown",
   "metadata": {},
   "source": [
    "## Part 1: QLBS DP approach (Known price-dynamics)\n",
    "- Monte Carlo (MC) simulation of stock paths\n",
    "- Computation of optimal hedge $a_t^\\star(X_t)$ with minimum variance technique\n",
    "- Backward recursively update and determine the optimal Q-function $Q_t^\\star(X_t, a_t^\\star)$ in basis functions with time-dependend coefficients\n"
   ]
  },
  {
   "cell_type": "code",
   "execution_count": 70,
   "metadata": {},
   "outputs": [],
   "source": [
    "import numpy as np\n",
    "import pandas as pd\n",
    "from scipy.stats import norm\n",
    "import random\n",
    "import time\n",
    "import matplotlib.pyplot as plt\n",
    "import os"
   ]
  },
  {
   "cell_type": "code",
   "execution_count": 71,
   "metadata": {},
   "outputs": [],
   "source": [
    "# User Inputs\n",
    "# GLOBAL VARIABLES THAT DEFINE THE MODEL\n",
    "\n",
    "## market dynamics\n",
    "S0 = 100      # initial stock price\n",
    "mu = 0.05     # drift\n",
    "sigma = 0.15  # volatility\n",
    "r = 0.04      # risk-free rate\n",
    "\n",
    "## option details\n",
    "opt_type = 'Put'\n",
    "M = 1         # maturity\n",
    "K = 100       # option stike \n",
    "T = 4        # number of time steps\n",
    "N_MC = 4  # number of paths\n",
    "\n",
    "## market dynamics\n",
    "delta_t = M / T                # time interval\n",
    "gamma = np.exp(- r * delta_t)  # discount factor\n",
    "\n",
    "np.random.seed(42)"
   ]
  },
  {
   "cell_type": "markdown",
   "metadata": {},
   "source": [
    "## Monte Carlo Simulation"
   ]
  },
  {
   "cell_type": "markdown",
   "metadata": {},
   "source": [
    "## Initialization"
   ]
  },
  {
   "cell_type": "code",
   "execution_count": 72,
   "metadata": {},
   "outputs": [],
   "source": [
    "def gen_stock_paths(S0, mu, sigma, T, N_MC, delta_t, r):\n",
    "    \"\"\"\n",
    "    Simulates stock prices using Geometric Brownian Motion, computes adjusted stock returns,\n",
    "    and calculates the log-processed state variable.\n",
    "\n",
    "    Parameters:\n",
    "    - S0: Initial stock price.\n",
    "    - mu: Expected return.\n",
    "    - sigma: Volatility of the stock.\n",
    "    - T: Total time period.\n",
    "    - N_MC: Number of Monte Carlo simulations.\n",
    "    - delta_t: Time increment.\n",
    "    - r: Risk-free interest rate.\n",
    "\n",
    "    Returns:\n",
    "    - S: DataFrame of simulated stock prices.\n",
    "    - delta_S: DataFrame of stock returns.\n",
    "    - delta_S_hat: DataFrame of adjusted stock returns.\n",
    "    - X: DataFrame of log-processed state variables for each time step.\n",
    "    - execution_time: Time taken to execute the simulation.\n",
    "    \"\"\"\n",
    "    starttime = time.time()\n",
    "\n",
    "    # Initialize empty DataFrame for stock prices\n",
    "    S = pd.DataFrame([], index=range(1, N_MC + 1), columns=range(T + 1), dtype=float)\n",
    "    S.loc[:, 0] = S0  # Set initial stock price for each simulation\n",
    "\n",
    "    # Generate standard normal random variables\n",
    "    RN = pd.DataFrame(np.random.randn(N_MC, T), index=range(1, N_MC + 1), columns=range(1, T + 1))\n",
    "\n",
    "    # Simulate stock price paths with Geometric Brownian Motion\n",
    "    for t in range(1, T + 1):\n",
    "        S.loc[:, t] = S.loc[:, t - 1] * np.exp((mu - 0.5 * sigma**2) * delta_t + sigma * np.sqrt(delta_t) * RN.loc[:, t])\n",
    "\n",
    "    # Calculate stock returns at each step\n",
    "    delta_S = S.loc[:,1:T].values - np.exp(r * delta_t) * S.loc[:,0:T-1]\n",
    "\n",
    "    # Adjust stock returns by subtracting the mean return at each time step\n",
    "    delta_S_hat = delta_S.apply(lambda x: x - np.mean(x), axis=0)\n",
    "\n",
    "    # Define the log-processed state variable for each time step\n",
    "    X = - (mu - 0.5 * sigma**2) * np.tile(np.arange(T + 1) * delta_t, (N_MC, 1)) + np.log(S)\n",
    "\n",
    "    endtime = time.time()\n",
    "    execution_time = endtime - starttime\n",
    "\n",
    "    print('\\nExecution Time:', execution_time, 'seconds')\n",
    "\n",
    "    return S, delta_S, delta_S_hat, X\n"
   ]
  },
  {
   "cell_type": "code",
   "execution_count": 73,
   "metadata": {},
   "outputs": [
    {
     "name": "stdout",
     "output_type": "stream",
     "text": [
      "\n",
      "Execution Time: 0.006915092468261719 seconds\n"
     ]
    }
   ],
   "source": [
    "# GLOBAL VARIABLES THAT DEFINE THE MODEL\n",
    "\n",
    "S, delta_S, delta_S_hat, X = gen_stock_paths(S0, mu, sigma, T, N_MC, delta_t, r)"
   ]
  },
  {
   "cell_type": "code",
   "execution_count": 74,
   "metadata": {},
   "outputs": [
    {
     "data": {
      "text/html": [
       "<div>\n",
       "<style scoped>\n",
       "    .dataframe tbody tr th:only-of-type {\n",
       "        vertical-align: middle;\n",
       "    }\n",
       "\n",
       "    .dataframe tbody tr th {\n",
       "        vertical-align: top;\n",
       "    }\n",
       "\n",
       "    .dataframe thead th {\n",
       "        text-align: right;\n",
       "    }\n",
       "</style>\n",
       "<table border=\"1\" class=\"dataframe\">\n",
       "  <thead>\n",
       "    <tr style=\"text-align: right;\">\n",
       "      <th></th>\n",
       "      <th>0</th>\n",
       "      <th>1</th>\n",
       "      <th>2</th>\n",
       "      <th>3</th>\n",
       "      <th>4</th>\n",
       "    </tr>\n",
       "  </thead>\n",
       "  <tbody>\n",
       "    <tr>\n",
       "      <th>1</th>\n",
       "      <td>100.0</td>\n",
       "      <td>104.806024</td>\n",
       "      <td>104.734536</td>\n",
       "      <td>111.018079</td>\n",
       "      <td>125.663513</td>\n",
       "    </tr>\n",
       "    <tr>\n",
       "      <th>2</th>\n",
       "      <td>100.0</td>\n",
       "      <td>99.215692</td>\n",
       "      <td>98.437656</td>\n",
       "      <td>111.893986</td>\n",
       "      <td>119.677063</td>\n",
       "    </tr>\n",
       "    <tr>\n",
       "      <th>3</th>\n",
       "      <td>100.0</td>\n",
       "      <td>97.479988</td>\n",
       "      <td>102.516792</td>\n",
       "      <td>99.978762</td>\n",
       "      <td>97.486660</td>\n",
       "    </tr>\n",
       "    <tr>\n",
       "      <th>4</th>\n",
       "      <td>100.0</td>\n",
       "      <td>102.822567</td>\n",
       "      <td>89.944817</td>\n",
       "      <td>79.799321</td>\n",
       "      <td>77.248766</td>\n",
       "    </tr>\n",
       "  </tbody>\n",
       "</table>\n",
       "</div>"
      ],
      "text/plain": [
       "       0           1           2           3           4\n",
       "1  100.0  104.806024  104.734536  111.018079  125.663513\n",
       "2  100.0   99.215692   98.437656  111.893986  119.677063\n",
       "3  100.0   97.479988  102.516792   99.978762   97.486660\n",
       "4  100.0  102.822567   89.944817   79.799321   77.248766"
      ]
     },
     "execution_count": 74,
     "metadata": {},
     "output_type": "execute_result"
    }
   ],
   "source": [
    "S"
   ]
  },
  {
   "cell_type": "code",
   "execution_count": 75,
   "metadata": {},
   "outputs": [
    {
     "data": {
      "text/html": [
       "<div>\n",
       "<style scoped>\n",
       "    .dataframe tbody tr th:only-of-type {\n",
       "        vertical-align: middle;\n",
       "    }\n",
       "\n",
       "    .dataframe tbody tr th {\n",
       "        vertical-align: top;\n",
       "    }\n",
       "\n",
       "    .dataframe thead th {\n",
       "        text-align: right;\n",
       "    }\n",
       "</style>\n",
       "<table border=\"1\" class=\"dataframe\">\n",
       "  <thead>\n",
       "    <tr style=\"text-align: right;\">\n",
       "      <th></th>\n",
       "      <th>0</th>\n",
       "      <th>1</th>\n",
       "      <th>2</th>\n",
       "      <th>3</th>\n",
       "    </tr>\n",
       "  </thead>\n",
       "  <tbody>\n",
       "    <tr>\n",
       "      <th>1</th>\n",
       "      <td>3.801007</td>\n",
       "      <td>-1.124805</td>\n",
       "      <td>5.230943</td>\n",
       "      <td>13.529684</td>\n",
       "    </tr>\n",
       "    <tr>\n",
       "      <th>2</th>\n",
       "      <td>-1.789325</td>\n",
       "      <td>-1.775170</td>\n",
       "      <td>12.467016</td>\n",
       "      <td>6.658524</td>\n",
       "    </tr>\n",
       "    <tr>\n",
       "      <th>3</th>\n",
       "      <td>-3.525029</td>\n",
       "      <td>4.057114</td>\n",
       "      <td>-3.568341</td>\n",
       "      <td>-3.496905</td>\n",
       "    </tr>\n",
       "    <tr>\n",
       "      <th>4</th>\n",
       "      <td>1.817551</td>\n",
       "      <td>-13.911134</td>\n",
       "      <td>-11.049456</td>\n",
       "      <td>-3.352552</td>\n",
       "    </tr>\n",
       "  </tbody>\n",
       "</table>\n",
       "</div>"
      ],
      "text/plain": [
       "          0          1          2          3\n",
       "1  3.801007  -1.124805   5.230943  13.529684\n",
       "2 -1.789325  -1.775170  12.467016   6.658524\n",
       "3 -3.525029   4.057114  -3.568341  -3.496905\n",
       "4  1.817551 -13.911134 -11.049456  -3.352552"
      ]
     },
     "execution_count": 75,
     "metadata": {},
     "output_type": "execute_result"
    }
   ],
   "source": [
    "delta_S"
   ]
  },
  {
   "cell_type": "code",
   "execution_count": 76,
   "metadata": {},
   "outputs": [
    {
     "data": {
      "text/html": [
       "<div>\n",
       "<style scoped>\n",
       "    .dataframe tbody tr th:only-of-type {\n",
       "        vertical-align: middle;\n",
       "    }\n",
       "\n",
       "    .dataframe tbody tr th {\n",
       "        vertical-align: top;\n",
       "    }\n",
       "\n",
       "    .dataframe thead th {\n",
       "        text-align: right;\n",
       "    }\n",
       "</style>\n",
       "<table border=\"1\" class=\"dataframe\">\n",
       "  <thead>\n",
       "    <tr style=\"text-align: right;\">\n",
       "      <th></th>\n",
       "      <th>0</th>\n",
       "      <th>1</th>\n",
       "      <th>2</th>\n",
       "      <th>3</th>\n",
       "    </tr>\n",
       "  </thead>\n",
       "  <tbody>\n",
       "    <tr>\n",
       "      <th>1</th>\n",
       "      <td>3.724956</td>\n",
       "      <td>2.063694</td>\n",
       "      <td>4.460903</td>\n",
       "      <td>10.194996</td>\n",
       "    </tr>\n",
       "    <tr>\n",
       "      <th>2</th>\n",
       "      <td>-1.865376</td>\n",
       "      <td>1.413329</td>\n",
       "      <td>11.696975</td>\n",
       "      <td>3.323836</td>\n",
       "    </tr>\n",
       "    <tr>\n",
       "      <th>3</th>\n",
       "      <td>-3.601080</td>\n",
       "      <td>7.245613</td>\n",
       "      <td>-4.338381</td>\n",
       "      <td>-6.831592</td>\n",
       "    </tr>\n",
       "    <tr>\n",
       "      <th>4</th>\n",
       "      <td>1.741500</td>\n",
       "      <td>-10.722635</td>\n",
       "      <td>-11.819497</td>\n",
       "      <td>-6.687240</td>\n",
       "    </tr>\n",
       "  </tbody>\n",
       "</table>\n",
       "</div>"
      ],
      "text/plain": [
       "          0          1          2          3\n",
       "1  3.724956   2.063694   4.460903  10.194996\n",
       "2 -1.865376   1.413329  11.696975   3.323836\n",
       "3 -3.601080   7.245613  -4.338381  -6.831592\n",
       "4  1.741500 -10.722635 -11.819497  -6.687240"
      ]
     },
     "execution_count": 76,
     "metadata": {},
     "output_type": "execute_result"
    }
   ],
   "source": [
    "delta_S_hat"
   ]
  },
  {
   "cell_type": "markdown",
   "metadata": {},
   "source": [
    "### Payoff function"
   ]
  },
  {
   "cell_type": "markdown",
   "metadata": {},
   "source": [
    "Define function *terminal_payoff* to compute the terminal payoff of a European option\n",
    "\n",
    "Call: $$H_T\\left(S_T\\right)=\\max\\left(S_T-K,0\\right)$$\n",
    "\n",
    "Put: $$H_T\\left(S_T\\right)=\\max\\left(K-S_T,0\\right)$$"
   ]
  },
  {
   "cell_type": "code",
   "execution_count": 77,
   "metadata": {},
   "outputs": [],
   "source": [
    "def terminal_payoff(ST, K, option_type):\n",
    "    \"\"\"\n",
    "    Calculates the terminal payoff for call and put options.\n",
    "\n",
    "    Parameters:\n",
    "    - ST: Final stock price.\n",
    "    - K: Strike price.\n",
    "    - option_type: Type of the option ('call' or 'put').\n",
    "\n",
    "    Returns:\n",
    "    - The terminal payoff of the option.\n",
    "    \"\"\"\n",
    "    if option_type.lower() == 'call':\n",
    "        payoff = max(ST - K, 0)\n",
    "    elif option_type.lower() == 'put':\n",
    "        payoff = max(K - ST, 0)\n",
    "    else:\n",
    "        raise ValueError(\"option_type must be 'call' or 'put'\")\n",
    "    \n",
    "    return payoff"
   ]
  },
  {
   "cell_type": "markdown",
   "metadata": {},
   "source": [
    "### Black-Scholes Formula"
   ]
  },
  {
   "cell_type": "code",
   "execution_count": 78,
   "metadata": {},
   "outputs": [],
   "source": [
    "def bs_price(t, S0=S0, K=K, r=r, sigma=sigma, T=M, option_type=opt_type):\n",
    "    \"\"\"\n",
    "    Calculates the Black-Scholes price for call and put options.\n",
    "\n",
    "    Parameters:\n",
    "    - option_type: Type of the option ('call' or 'put').\n",
    "    - t: Current time.\n",
    "    - S0: Initial stock price.\n",
    "    - K: Strike price.\n",
    "    - r: Risk-free interest rate.\n",
    "    - sigma: Volatility of the underlying asset.\n",
    "    - T: Time to maturity.\n",
    "\n",
    "    Returns:\n",
    "    - The Black-Scholes price of the option.\n",
    "    \"\"\"\n",
    "    d1 = (np.log(S0 / K) + (r + 0.5 * sigma ** 2) * (T - t)) / (sigma * np.sqrt(T - t))\n",
    "    d2 = d1 - sigma * np.sqrt(T - t)\n",
    "\n",
    "    if option_type.lower() == 'call':\n",
    "        price = S0 * norm.cdf(d1) - K * np.exp(-r * (T - t)) * norm.cdf(d2)\n",
    "    elif option_type.lower() == 'put':\n",
    "        price = K * np.exp(-r * (T - t)) * norm.cdf(-d2) - S0 * norm.cdf(-d1)\n",
    "    else:\n",
    "        raise ValueError(\"option_type must be 'call' or 'put'\")\n",
    "    \n",
    "    return price"
   ]
  },
  {
   "cell_type": "markdown",
   "metadata": {},
   "source": [
    "##  Define spline basis functions  \n",
    "\n",
    "Interpolate discretized problems to solve PDE using bspline to approximate the functions "
   ]
  },
  {
   "cell_type": "code",
   "execution_count": 79,
   "metadata": {},
   "outputs": [],
   "source": [
    "import bspline\n",
    "import bspline.splinelab as splinelab\n",
    "\n",
    "\n",
    "def gen_bspline_basis(X, p=4, ncolloc=12):\n",
    "    \"\"\"\n",
    "    Generates a set of B-spline basis functions.\n",
    "\n",
    "    Parameters:\n",
    "    - X: State space DF used to define the range of the spline.\n",
    "    - p: Order of the spline.\n",
    "    - ncolloc: Number of collocation points/B-spline functions\n",
    "    \"\"\"\n",
    "    X_min = np.min(X)\n",
    "    X_max = np.max(X)\n",
    "    print('X.shape = ', X.shape)\n",
    "    print('X_min, X_max = ', X_min, X_max)\n",
    "\n",
    "    tau = np.linspace(X_min, X_max, ncolloc)  # Interpolation sites\n",
    "\n",
    "    # Generate the knot vector and create the spline basis\n",
    "    k = splinelab.aptknt(tau, p)\n",
    "    basis = bspline.Bspline(k, p)\n",
    "\n",
    "    print('Number of points k = ', len(k))\n",
    "\n",
    "    # Plotting\n",
    "    f = plt.figure()\n",
    "    basis.plot()\n",
    "\n",
    "    # Ensure the save directory exists\n",
    "    save_dir='basis_func_plots'\n",
    "    \n",
    "    if not os.path.exists(save_dir):\n",
    "        os.makedirs(save_dir)\n",
    "\n",
    "    # Save the figure with a filename that includes the number of basis functions\n",
    "    filename = f'{save_dir}/Basis_functions_{ncolloc}.png'\n",
    "    plt.savefig(filename, dpi=600)\n",
    "    print(f'Plot saved to {filename}')\n",
    "\n",
    "    # Optionally, close the plot if not needed to be shown interactively\n",
    "    plt.close(f)\n",
    "    \n",
    "    return basis"
   ]
  },
  {
   "cell_type": "code",
   "execution_count": 80,
   "metadata": {},
   "outputs": [
    {
     "name": "stdout",
     "output_type": "stream",
     "text": [
      "X.shape =  (4, 5)\n",
      "X_min, X_max =  4.3082809358746585 4.794857804464249\n",
      "Number of points k =  6\n"
     ]
    },
    {
     "data": {
      "image/png": "[encoded data removed]",
      "text/plain": [
       "<Figure size 640x480 with 1 Axes>"
      ]
     },
     "metadata": {},
     "output_type": "display_data"
    },
    {
     "name": "stdout",
     "output_type": "stream",
     "text": [
      "Plot saved to basis_func_plots/Basis_functions_3.png\n"
     ]
    },
    {
     "data": {
      "text/plain": [
       "<Figure size 640x480 with 0 Axes>"
      ]
     },
     "metadata": {},
     "output_type": "display_data"
    }
   ],
   "source": [
    "basis = gen_bspline_basis(X, p=2, ncolloc=3)"
   ]
  },
  {
   "cell_type": "code",
   "execution_count": 81,
   "metadata": {},
   "outputs": [],
   "source": [
    "def apply_basis_funcs(X, basis, T, N_MC, num_basis=12):\n",
    "    \"\"\"\n",
    "    Creates a data matrix filled with basis function values for each time step and simulation.\n",
    "\n",
    "    Parameters:\n",
    "    - X: The matrix of log-processed state variables.\n",
    "    - basis: The bspline basis function.\n",
    "    - num_t_steps: The number of time steps.\n",
    "    - N_MC: The number of Monte Carlo simulations.\n",
    "    - num_basis: The number of basis functions.\n",
    "\n",
    "    Returns:\n",
    "    - data_mat_t: A 3D numpy array containing the basis function values.\n",
    "    \"\"\"\n",
    "    # Initialize the data matrix\n",
    "    data_mat_t = np.zeros((T+1, N_MC, num_basis))\n",
    "    print('num_basis =', num_basis)\n",
    "    print('dimension of data_mat_t =', data_mat_t.shape)\n",
    "    \n",
    "    t_0 = time.time()\n",
    "    # Fill the data matrix with basis function values\n",
    "    for i in np.arange(T+1):\n",
    "        x = X.values[:, i]  # Extract values for the current time step\n",
    "        data_mat_t[i, :, :] = np.array([basis(el) for el in x])  # Apply data points onto bspline\n",
    "        print('t = ', i, data_mat_t[i, :, :])\n",
    "    t_end = time.time()\n",
    "    print('Computational time:', t_end - t_0, 'seconds')\n",
    "    return data_mat_t"
   ]
  },
  {
   "cell_type": "code",
   "execution_count": 82,
   "metadata": {},
   "outputs": [
    {
     "name": "stdout",
     "output_type": "stream",
     "text": [
      "num_basis = 3\n",
      "dimension of data_mat_t = (5, 4, 3)\n",
      "t =  0 [[0.15197601 0.47572999 0.37229399]\n",
      " [0.15197601 0.47572999 0.37229399]\n",
      " [0.15197601 0.47572999 0.37229399]\n",
      " [0.15197601 0.47572999 0.37229399]]\n",
      "t =  1 [[0.0981434  0.43027014 0.47158646]\n",
      " [0.18141888 0.48902814 0.32955298]\n",
      " [0.21363334 0.49714306 0.2892236 ]\n",
      " [0.12428828 0.4565143  0.41919743]]\n",
      "t =  2 [[0.11195064 0.44527923 0.44277013]\n",
      " [0.21346466 0.4971154  0.28941994]\n",
      " [0.14331958 0.47051229 0.38616812]\n",
      " [0.41919755 0.45651424 0.12428821]]\n",
      "t =  3 [[0.05511077 0.35929211 0.58559712]\n",
      " [0.04778841 0.34163439 0.6105772 ]\n",
      " [0.20250542 0.4950012  0.30249338]\n",
      " [0.83417189 0.15831644 0.00751167]]\n",
      "t =  4 [[0.         0.         0.        ]\n",
      " [0.01006305 0.18050337 0.80943358]\n",
      " [0.27226761 0.49905016 0.22868223]\n",
      " [1.         0.         0.        ]]\n",
      "Computational time: 0.0038449764251708984 seconds\n"
     ]
    }
   ],
   "source": [
    "data_mat_t = apply_basis_funcs(X, basis, T, N_MC, num_basis=3)"
   ]
  },
  {
   "cell_type": "markdown",
   "metadata": {},
   "source": [
    "# QLBS model-based algorithm"
   ]
  },
  {
   "cell_type": "code",
   "execution_count": 83,
   "metadata": {},
   "outputs": [],
   "source": [
    "risk_lambda = 0.001\n",
    "epsilon = 0"
   ]
  },
  {
   "cell_type": "markdown",
   "metadata": {},
   "source": [
    "## Compute hedge $a_t^\\star$"
   ]
  },
  {
   "cell_type": "markdown",
   "metadata": {},
   "source": [
    "Calculate coefficients  $\\phi_{nt}$ of the optimal action $a_t^\\star\\left(X_t\\right)$\n",
    "- compute $A_{nm}^{\\left(t\\right)}$ matrix and $B_n^{\\left(t\\right)}$ column vector\n",
    "- compute $$\\phi_{nt}=\\mathbf A_t^{-1}\\mathbf B_t$$\n",
    "\n",
    "Compute the optimal hedge $a_t^\\star$ and portfolio value $\\Pi_t$ backwardly"
   ]
  },
  {
   "cell_type": "code",
   "execution_count": 84,
   "metadata": {},
   "outputs": [],
   "source": [
    "def compute_A_vec(t, delta_S_hat, data_mat, reg_param):\n",
    "    \"\"\"\n",
    "    Calculate the A matrix for optimal hedging.\n",
    "\n",
    "    Parameters:\n",
    "    - t: Time index, an index into the time axis of data_mat.\n",
    "    - delta_S_hat: DataFrame of adjusted stock price changes (N_MC x T).\n",
    "    - data_mat: DataFrame of basis functions (T x N_MC x num_basis).\n",
    "    - reg_param: Regularization parameter.\n",
    "\n",
    "    Returns:\n",
    "    - A matrix of dimension num_basis x num_basis.\n",
    "    \"\"\"\n",
    "    X_mat = data_mat[t, :, :]\n",
    "    num_basis_funcs = X_mat.shape[1]\n",
    "    this_dS = delta_S_hat.loc[:, t]\n",
    "    hat_dS2 = (this_dS ** 2).to_numpy().reshape(-1, 1) # flatten delta S df\n",
    "    A_mat = np.dot(X_mat.T, X_mat * hat_dS2) + reg_param * np.eye(num_basis_funcs)\n",
    "    print(\"A matrix\", A_mat)\n",
    "    return A_mat\n",
    "\n",
    "\n",
    "def compute_B_vec(t, Pi_hat, delta_S_hat, data_mat, gamma, risk_lambda):\n",
    "    \"\"\"\n",
    "    Compute the B vector used for optimal hedging.\n",
    "\n",
    "    Parameters:\n",
    "    - t: Time index, an index into the time axis of delta_S_hat.\n",
    "    - Pi_hat: DataFrame of portfolio values (N_MC x T).\n",
    "    - delta_S_hat: DataFrame of adjusted stock price changes (N_MC x T).\n",
    "    - data_mat: DataFrame of basis functions (T x N_MC x num_basis).\n",
    "    - gamma: One time-step discount factor exp(-r * delta_t).\n",
    "    - risk_lambda: Risk aversion coefficient, a small positive number.\n",
    "\n",
    "    Returns:\n",
    "    - B vector of dimension num_basis x 1.\n",
    "    \"\"\"\n",
    "    tmp = Pi_hat.loc[:,t+1] * delta_S_hat.loc[:, t]\n",
    "\n",
    "    X_mat = data_mat[t, :, :]  # matrix of dimension N_MC x num_basis\n",
    "    B_vec = np.dot(X_mat.T, tmp)\n",
    "    print(\"B vector\", B_vec)\n",
    "    return B_vec\n"
   ]
  },
  {
   "cell_type": "code",
   "execution_count": 85,
   "metadata": {},
   "outputs": [],
   "source": [
    "def calculate_optimal_hedge(N_MC, T, S, delta_S, delta_S_hat, data_mat_t, gamma, risk_lambda, epsilon=0):\n",
    "    \"\"\"\n",
    "    Calculate the optimal hedge strategy and portfolio values.\n",
    "\n",
    "    Parameters:\n",
    "    - N_MC: Number of Monte Carlo simulations\n",
    "    - T: Total time periods\n",
    "    - S: DataFrame of simulated stock prices\n",
    "    - delta_S: DataFrame of stock returns\n",
    "    - delta_S_hat: DataFrame of adjusted stock returns\n",
    "    - data_mat_t: DataFrame of basis functions\n",
    "    - gamma: One time-step discount factor\n",
    "    - risk_lambda: Risk aversion coefficient\n",
    "    - epsilon: Transaction cost parameter (default is 0.01)\n",
    "\n",
    "    Returns:\n",
    "    - a: DataFrame of optimal hedge strategy\n",
    "    - Pi: DataFrame of portfolio values\n",
    "    - Pi_hat: DataFrame of adjusted portfolio values\n",
    "    \"\"\"\n",
    "    starttime = time.time()\n",
    "\n",
    "    # Initialize portfolio value\n",
    "    Pi = pd.DataFrame(index=range(1, N_MC + 1), columns=range(T + 1))\n",
    "    Pi.iloc[:, -1] = S.iloc[:, -1].apply(lambda x: terminal_payoff(x, K, opt_type))\n",
    "\n",
    "    # Demean portfolio value\n",
    "    Pi_hat = pd.DataFrame(index=range(1, N_MC + 1), columns=range(T + 1))\n",
    "    Pi_hat.iloc[:, -1] = Pi.iloc[:, -1] - np.mean(Pi.iloc[:, -1])\n",
    "\n",
    "    # Initialize optimal hedge\n",
    "    a = pd.DataFrame(index=range(1, N_MC + 1), columns=range(T + 1))\n",
    "    a.iloc[:, -1] = 0\n",
    "\n",
    "    reg_param = 1e-3  # Free parameter for regularization\n",
    "    \n",
    "    for t in range(T - 1, -1, -1):\n",
    "        A_mat = compute_A_vec(t, delta_S_hat, data_mat_t, reg_param)\n",
    "        B_vec = compute_B_vec(t, Pi_hat, delta_S_hat, data_mat_t, gamma, risk_lambda)\n",
    "\n",
    "        # Calculate coefficients for expansions of the optimal action\n",
    "        phi = np.dot(np.linalg.inv(A_mat), B_vec)\n",
    "        print(\"phi t =\", t, phi)\n",
    "\n",
    "        print(\"a t = \", t, np.dot(data_mat_t[t, :, :], phi) )\n",
    "        # Calculate optimal hedge\n",
    "        a.loc[:, t] = np.dot(data_mat_t[t, :, :], phi)\n",
    "\n",
    "        # With transaction cost adjustment\n",
    "        Pi.loc[:, t] = gamma * (Pi.loc[:, t + 1] - a.loc[:, t] * delta_S.loc[:, t]) + epsilon * S.loc[:, t + 1] * abs(\n",
    "            a.loc[:, t + 1] - a.loc[:, t])\n",
    "\n",
    "        # Update demeaned portfolio value\n",
    "        Pi_hat.loc[:, t] = Pi.loc[:, t] - np.mean(Pi.loc[:, t])\n",
    "        print(\"===================\") \n",
    "\n",
    "    # Convert data types to float\n",
    "    a = a.astype('float')\n",
    "    Pi = Pi.astype('float')\n",
    "    Pi_hat = Pi_hat.astype('float')\n",
    "\n",
    "    endtime = time.time()\n",
    "    print('Computational time:', endtime - starttime, 'seconds')\n",
    "\n",
    "    # Return results\n",
    "    return a, Pi, Pi_hat\n"
   ]
  },
  {
   "cell_type": "code",
   "execution_count": 86,
   "metadata": {},
   "outputs": [
    {
     "name": "stdout",
     "output_type": "stream",
     "text": [
      "A matrix [[33.37331605 12.82247143  6.8158143 ]\n",
      " [12.82247143 27.26425719 31.21450497]\n",
      " [ 6.8158143  31.21450497 44.03550967]]\n",
      "B vector [-90.9710733962261 -34.84822425831254 -43.493776853074365]\n",
      "phi t = 3 [-3.921148538881583 5.316670275596843 -4.149496365745649]\n",
      "a t =  3 [-0.7357929292199328 -0.9046158979887762 0.5825091949850818\n",
      " -2.4603651893938423]\n",
      "===================\n",
      "A matrix [[31.42056122 43.51441238 17.75947997]\n",
      " [43.51441238 71.03891988 34.95455512]\n",
      " [17.75947997 34.95455512 20.32755904]]\n",
      "B vector [-31.758530750227006 -35.573912134588944 -8.200315406717348]\n",
      "phi t = 2 [1.7733040504846258 -4.068956415081658 5.044151535778031]\n",
      "a t =  2 [0.620100338633045 -0.1843250996195156 0.28754570273950697\n",
      " -0.48724326977153776]\n",
      "===================\n",
      "A matrix [[ 4.27985669 12.45637916  9.5506739 ]\n",
      " [12.45637916 38.2036956  30.73736228]\n",
      " [ 9.5506739  30.73736228 25.76076193]]\n",
      "B vector [-4.844223661918456 -14.38366537671604 -11.299134694468123]\n",
      "phi t = 1 [-10.121007570252232 6.433962560228338 -4.363214498666252]\n",
      "a t =  1 [-0.2826009954078845 -0.12766339896049983 -0.22552946520629402\n",
      " -0.14977499041210507]\n",
      "===================\n",
      "A matrix [[0.77140273 2.41158903 1.88724721]\n",
      " [2.41158903 7.54998885 5.90764346]\n",
      " [1.88724721 5.90764346 4.62416901]]\n",
      "B vector [-0.42170544814130717 -1.320063115064716 -1.0330472581246177]\n",
      "phi t = 0 [-0.032580327906288176 -0.101986088477247 -0.07981167556761193]\n",
      "a t =  0 [-0.08318267694236338 -0.08318267694236338 -0.08318267694236338\n",
      " -0.08318267694236338]\n",
      "===================\n",
      "Computational time: 0.02295994758605957 seconds\n"
     ]
    }
   ],
   "source": [
    "a, Pi, Pi_hat = calculate_optimal_hedge(N_MC, T, S, delta_S, delta_S_hat, data_mat_t, gamma, risk_lambda)"
   ]
  },
  {
   "cell_type": "code",
   "execution_count": 87,
   "metadata": {},
   "outputs": [
    {
     "data": {
      "text/html": [
       "<div>\n",
       "<style scoped>\n",
       "    .dataframe tbody tr th:only-of-type {\n",
       "        vertical-align: middle;\n",
       "    }\n",
       "\n",
       "    .dataframe tbody tr th {\n",
       "        vertical-align: top;\n",
       "    }\n",
       "\n",
       "    .dataframe thead th {\n",
       "        text-align: right;\n",
       "    }\n",
       "</style>\n",
       "<table border=\"1\" class=\"dataframe\">\n",
       "  <thead>\n",
       "    <tr style=\"text-align: right;\">\n",
       "      <th></th>\n",
       "      <th>0</th>\n",
       "      <th>1</th>\n",
       "      <th>2</th>\n",
       "      <th>3</th>\n",
       "      <th>4</th>\n",
       "    </tr>\n",
       "  </thead>\n",
       "  <tbody>\n",
       "    <tr>\n",
       "      <th>1</th>\n",
       "      <td>-0.083183</td>\n",
       "      <td>-0.282601</td>\n",
       "      <td>0.620100</td>\n",
       "      <td>-0.735793</td>\n",
       "      <td>0.0</td>\n",
       "    </tr>\n",
       "    <tr>\n",
       "      <th>2</th>\n",
       "      <td>-0.083183</td>\n",
       "      <td>-0.127663</td>\n",
       "      <td>-0.184325</td>\n",
       "      <td>-0.904616</td>\n",
       "      <td>0.0</td>\n",
       "    </tr>\n",
       "    <tr>\n",
       "      <th>3</th>\n",
       "      <td>-0.083183</td>\n",
       "      <td>-0.225529</td>\n",
       "      <td>0.287546</td>\n",
       "      <td>0.582509</td>\n",
       "      <td>0.0</td>\n",
       "    </tr>\n",
       "    <tr>\n",
       "      <th>4</th>\n",
       "      <td>-0.083183</td>\n",
       "      <td>-0.149775</td>\n",
       "      <td>-0.487243</td>\n",
       "      <td>-2.460365</td>\n",
       "      <td>0.0</td>\n",
       "    </tr>\n",
       "  </tbody>\n",
       "</table>\n",
       "</div>"
      ],
      "text/plain": [
       "          0         1         2         3    4\n",
       "1 -0.083183 -0.282601  0.620100 -0.735793  0.0\n",
       "2 -0.083183 -0.127663 -0.184325 -0.904616  0.0\n",
       "3 -0.083183 -0.225529  0.287546  0.582509  0.0\n",
       "4 -0.083183 -0.149775 -0.487243 -2.460365  0.0"
      ]
     },
     "execution_count": 87,
     "metadata": {},
     "output_type": "execute_result"
    }
   ],
   "source": [
    "a"
   ]
  },
  {
   "cell_type": "code",
   "execution_count": 88,
   "metadata": {},
   "outputs": [
    {
     "data": {
      "text/html": [
       "<div>\n",
       "<style scoped>\n",
       "    .dataframe tbody tr th:only-of-type {\n",
       "        vertical-align: middle;\n",
       "    }\n",
       "\n",
       "    .dataframe tbody tr th {\n",
       "        vertical-align: top;\n",
       "    }\n",
       "\n",
       "    .dataframe thead th {\n",
       "        text-align: right;\n",
       "    }\n",
       "</style>\n",
       "<table border=\"1\" class=\"dataframe\">\n",
       "  <thead>\n",
       "    <tr style=\"text-align: right;\">\n",
       "      <th></th>\n",
       "      <th>0</th>\n",
       "      <th>1</th>\n",
       "      <th>2</th>\n",
       "      <th>3</th>\n",
       "      <th>4</th>\n",
       "    </tr>\n",
       "  </thead>\n",
       "  <tbody>\n",
       "    <tr>\n",
       "      <th>1</th>\n",
       "      <td>6.418314</td>\n",
       "      <td>6.166641</td>\n",
       "      <td>6.546488</td>\n",
       "      <td>9.855991</td>\n",
       "      <td>0.000000</td>\n",
       "    </tr>\n",
       "    <tr>\n",
       "      <th>2</th>\n",
       "      <td>7.647797</td>\n",
       "      <td>7.873499</td>\n",
       "      <td>8.179254</td>\n",
       "      <td>5.963473</td>\n",
       "      <td>0.000000</td>\n",
       "    </tr>\n",
       "    <tr>\n",
       "      <th>3</th>\n",
       "      <td>5.974212</td>\n",
       "      <td>6.327475</td>\n",
       "      <td>5.476068</td>\n",
       "      <td>4.505042</td>\n",
       "      <td>2.513340</td>\n",
       "    </tr>\n",
       "    <tr>\n",
       "      <th>4</th>\n",
       "      <td>6.816814</td>\n",
       "      <td>6.734135</td>\n",
       "      <td>8.885354</td>\n",
       "      <td>14.358427</td>\n",
       "      <td>22.751234</td>\n",
       "    </tr>\n",
       "  </tbody>\n",
       "</table>\n",
       "</div>"
      ],
      "text/plain": [
       "          0         1         2          3          4\n",
       "1  6.418314  6.166641  6.546488   9.855991   0.000000\n",
       "2  7.647797  7.873499  8.179254   5.963473   0.000000\n",
       "3  5.974212  6.327475  5.476068   4.505042   2.513340\n",
       "4  6.816814  6.734135  8.885354  14.358427  22.751234"
      ]
     },
     "execution_count": 88,
     "metadata": {},
     "output_type": "execute_result"
    }
   ],
   "source": [
    "Pi"
   ]
  },
  {
   "cell_type": "markdown",
   "metadata": {},
   "source": [
    "## Compute reward function"
   ]
  },
  {
   "cell_type": "markdown",
   "metadata": {},
   "source": [
    "Reward function $$R_t\\left(X_t,a_t,X_{t+1}\\right)=\\gamma a_t\\Delta S_t-\\lambda Var\\left[\\Pi_t\\space|\\space\\mathcal F_t\\right]\\quad t=0,...,T-1$$\n",
    "\n",
    "Use optimal hedge $a_t^\\star$ and portfolio value $\\Pi_t$  along with the terminal condition $R_T=-\\lambda Var\\left[\\Pi_T\\right]$ to calculate the rewards at each state backwardly"
   ]
  },
  {
   "cell_type": "code",
   "execution_count": 89,
   "metadata": {},
   "outputs": [],
   "source": [
    "def compute_rewards(a, delta_S, Pi, gamma, risk_lambda):\n",
    "    \"\"\"\n",
    "    Computes rewards for all paths based on the optimal hedge and portfolio values.\n",
    "\n",
    "    Parameters:\n",
    "    - a: DataFrame of optimal hedge values.\n",
    "    - delta_S: DataFrame of adjusted stock returns.\n",
    "    - Pi: DataFrame of portfolio values.\n",
    "    - gamma: One time-step discount factor.\n",
    "    - risk_lambda: Risk aversion coefficient.\n",
    "\n",
    "    Returns:\n",
    "    - R: DataFrame of computed rewards.\n",
    "    \"\"\"\n",
    "    starttime = time.time()\n",
    "\n",
    "    # Initialize DataFrame for rewards\n",
    "    R = pd.DataFrame(index=a.index, columns=a.columns)\n",
    "\n",
    "    # Compute rewards for each time step\n",
    "    R.iloc[:, -1] = - risk_lambda * np.var(Pi.iloc[:, -1])\n",
    "\n",
    "    for t in range(T):\n",
    "        R.iloc[:, t] = gamma * a.iloc[:, t] * delta_S.iloc[:, t] - risk_lambda * np.var(Pi.iloc[:, t])\n",
    "\n",
    "    endtime = time.time()\n",
    "    print('\\nTime Cost:', endtime - starttime, 'seconds')\n",
    "\n",
    "    return R\n"
   ]
  },
  {
   "cell_type": "code",
   "execution_count": 90,
   "metadata": {},
   "outputs": [
    {
     "name": "stdout",
     "output_type": "stream",
     "text": [
      "\n",
      "Time Cost: 0.009720087051391602 seconds\n"
     ]
    }
   ],
   "source": [
    "R = compute_rewards(a, delta_S, Pi, gamma, risk_lambda)"
   ]
  },
  {
   "cell_type": "markdown",
   "metadata": {},
   "source": [
    "## Compute Q-function"
   ]
  },
  {
   "cell_type": "markdown",
   "metadata": {},
   "source": [
    "Calculate coefficients $\\omega_t$ of the optimal Q-function $Q_t^\\star\\left(X_t,a_t^\\star\\right)$\n",
    "\n",
    "- Compute $C_{nm}$ matrix and $D_n^{\\left(t\\right)}$ column vector\n",
    "- Compute $$\\omega_t=\\mathbf C_t^{-1}\\mathbf D_t$$"
   ]
  },
  {
   "cell_type": "code",
   "execution_count": 91,
   "metadata": {},
   "outputs": [],
   "source": [
    "def compute_C_vec(t, data_mat, reg_param):\n",
    "    \"\"\"\n",
    "    Parameters:\n",
    "    - t: Time index, a scalar, an index into the time axis of data_mat.\n",
    "    - data_mat: DataFrame of values of basis functions of dimension T x N_MC x num_basis.\n",
    "    - reg_param: Regularization parameter, a scalar.\n",
    "\n",
    "    Returns:\n",
    "    - C_mat: np.array of dimension num_basis x num_basis.\n",
    "    \"\"\"\n",
    "    X_mat = data_mat[t, :, :]\n",
    "    num_basis_funcs = X_mat.shape[1]\n",
    "    C_mat = np.dot(X_mat.T, X_mat) + reg_param * np.eye(num_basis_funcs)\n",
    "    print(\"C_mat\", C_mat)\n",
    "    return C_mat\n",
    "   \n",
    "def compute_D_vec(t, Q, R, data_mat, gamma=gamma):\n",
    "    \"\"\"\n",
    "    Parameters:\n",
    "    - t: Time index, a scalar, an index into the time axis of data_mat.\n",
    "    - Q: DataFrame of Q-function values of dimension N_MC x T.\n",
    "    - R: DataFrame of rewards of dimension N_MC x T.\n",
    "    - data_mat: DataFrame of values of basis functions of dimension T x N_MC x num_basis.\n",
    "    - gamma: One time-step discount factor $exp(-r \\delta t)$.\n",
    "\n",
    "    Returns:\n",
    "    - D_vec: np.array of dimension num_basis x 1.\n",
    "    \"\"\"\n",
    "    X_mat = data_mat[t, :, :]\n",
    "    D_vec = np.dot(X_mat.T, R.loc[:, t] + gamma * Q.loc[:, t + 1])\n",
    "    print(\"D_vec\", D_vec)\n",
    "    return D_vec"
   ]
  },
  {
   "cell_type": "markdown",
   "metadata": {},
   "source": [
    "compute optimal action Q-function $Q_t^\\star\\left(X_t,a_t^\\star\\right)=\\sum_n^N{\\omega_{nt}\\Phi_n\\left(X_t\\right)}$ backwardly with terminal condition $Q_T^\\star\\left(X_T,a_T=0\\right)=-\\Pi_T\\left(X_T\\right)-\\lambda Var\\left[\\Pi_T\\left(X_T\\right)\\right]$."
   ]
  },
  {
   "cell_type": "code",
   "execution_count": 92,
   "metadata": {},
   "outputs": [],
   "source": [
    "def compute_Q_function(Pi, data_mat_t, risk_lambda):\n",
    "    \"\"\"\n",
    "    Computes the Q-function values using regularization and matrix operations.\n",
    "\n",
    "    Parameters:\n",
    "    - Pi: DataFrame of portfolio values.\n",
    "    - data_mat_t: DataFrame of values of basis functions.\n",
    "    - risk_lambda: Risk aversion coefficient.\n",
    "\n",
    "    Returns:\n",
    "    - Q: DataFrame of Q-function values.\n",
    "    \"\"\"\n",
    "    starttime = time.time()\n",
    "\n",
    "    # Initialize DataFrame for Q-function values\n",
    "    Q = pd.DataFrame([], index=range(1, N_MC + 1), columns=range(T + 1))\n",
    "    # Terminal condition\n",
    "    Q.iloc[:, -1] = - Pi.iloc[:, -1] - risk_lambda * np.var(Pi.iloc[:, -1])\n",
    "\n",
    "    reg_param = 1e-3\n",
    "    for t in range(T - 1, -1, -1):\n",
    "        C_mat = compute_C_vec(t, data_mat_t, reg_param)\n",
    "        D_vec = compute_D_vec(t, Q, R, data_mat_t, gamma)\n",
    "        omega = np.dot(np.linalg.inv(C_mat), D_vec)\n",
    "        print('omega t = ', t, omega)\n",
    "        \n",
    "        Q.loc[:, t] = np.dot(data_mat_t[t, :, :], omega)\n",
    "        \n",
    "    Q = Q.astype('float')\n",
    "    endtime = time.time()\n",
    "    execution_time = endtime - starttime\n",
    "    print('\\nTime Cost:', execution_time, 'seconds')\n",
    "\n",
    "    return Q\n"
   ]
  },
  {
   "cell_type": "code",
   "execution_count": 93,
   "metadata": {},
   "outputs": [
    {
     "name": "stdout",
     "output_type": "stream",
     "text": [
      "C_mat [[0.74317211 0.26843058 0.12897379]\n",
      " [0.26843058 0.51689517 0.5699184 ]\n",
      " [0.12897379 0.5699184  0.80828717]]\n",
      "D_vec [-13.83726729394035 -10.223599167936953 -11.041238900186334]\n",
      "omega t =  3 [-18.52521331501995 7.384563907943317 -15.910893122254791]\n",
      "C_mat [[0.2553672  0.41476914 0.2187961 ]\n",
      " [0.41476914 0.87618439 0.57946764]\n",
      " [0.2187961  0.57946764 0.44538266]]\n",
      "D_vec [-7.272211622675337 -13.909194368512807 -8.30115527616457]\n",
      "omega t =  2 [12.079504926297773 -38.281783521975285 25.23436985676733]\n",
      "C_mat [[0.10463172 0.29389282 0.21995936]\n",
      " [0.29389282 0.88083744 0.69922538]\n",
      " [0.21995936 0.69922538 0.59137573]]\n",
      "D_vec [-4.472190351354882 -13.029154871697372 -9.992688498022446]\n",
      "omega t =  1 [2.142713822107453 -23.783822998729192 10.426965213837093]\n",
      "C_mat [[0.09338684 0.28919819 0.22631903]\n",
      " [0.28919819 0.90627611 0.70844567]\n",
      " [0.22631903 0.70844567 0.55541126]]\n",
      "D_vec [-4.139208220363852 -12.956949267214771 -10.139773440681124]\n",
      "omega t =  0 [-2.665170919024149 -8.342775368570074 -6.52884026627089]\n",
      "\n",
      "Time Cost: 0.009957075119018555 seconds\n"
     ]
    }
   ],
   "source": [
    "Q = compute_Q_function(Pi, data_mat_t, risk_lambda)\n",
    "# plot_tool(Q, idx_plot, 'Q Values', 'Optimal Q-Function')"
   ]
  },
  {
   "cell_type": "code",
   "execution_count": 94,
   "metadata": {},
   "outputs": [
    {
     "data": {
      "text/html": [
       "<div>\n",
       "<style scoped>\n",
       "    .dataframe tbody tr th:only-of-type {\n",
       "        vertical-align: middle;\n",
       "    }\n",
       "\n",
       "    .dataframe tbody tr th {\n",
       "        vertical-align: top;\n",
       "    }\n",
       "\n",
       "    .dataframe thead th {\n",
       "        text-align: right;\n",
       "    }\n",
       "</style>\n",
       "<table border=\"1\" class=\"dataframe\">\n",
       "  <thead>\n",
       "    <tr style=\"text-align: right;\">\n",
       "      <th></th>\n",
       "      <th>0</th>\n",
       "      <th>1</th>\n",
       "      <th>2</th>\n",
       "      <th>3</th>\n",
       "      <th>4</th>\n",
       "    </tr>\n",
       "  </thead>\n",
       "  <tbody>\n",
       "    <tr>\n",
       "      <th>1</th>\n",
       "      <td>-6.804599</td>\n",
       "      <td>-5.105960</td>\n",
       "      <td>-4.520750</td>\n",
       "      <td>-7.685096</td>\n",
       "      <td>-0.091090</td>\n",
       "    </tr>\n",
       "    <tr>\n",
       "      <th>2</th>\n",
       "      <td>-6.804599</td>\n",
       "      <td>-7.805993</td>\n",
       "      <td>-9.148587</td>\n",
       "      <td>-8.077298</td>\n",
       "      <td>-0.091090</td>\n",
       "    </tr>\n",
       "    <tr>\n",
       "      <th>3</th>\n",
       "      <td>-6.804599</td>\n",
       "      <td>-8.350483</td>\n",
       "      <td>-6.536111</td>\n",
       "      <td>-4.909028</td>\n",
       "      <td>-2.604430</td>\n",
       "    </tr>\n",
       "    <tr>\n",
       "      <th>4</th>\n",
       "      <td>-6.804599</td>\n",
       "      <td>-6.220384</td>\n",
       "      <td>-9.276146</td>\n",
       "      <td>-14.403632</td>\n",
       "      <td>-22.842325</td>\n",
       "    </tr>\n",
       "  </tbody>\n",
       "</table>\n",
       "</div>"
      ],
      "text/plain": [
       "          0         1         2          3          4\n",
       "1 -6.804599 -5.105960 -4.520750  -7.685096  -0.091090\n",
       "2 -6.804599 -7.805993 -9.148587  -8.077298  -0.091090\n",
       "3 -6.804599 -8.350483 -6.536111  -4.909028  -2.604430\n",
       "4 -6.804599 -6.220384 -9.276146 -14.403632 -22.842325"
      ]
     },
     "execution_count": 94,
     "metadata": {},
     "output_type": "execute_result"
    }
   ],
   "source": [
    "Q"
   ]
  },
  {
   "cell_type": "code",
   "execution_count": 95,
   "metadata": {},
   "outputs": [
    {
     "name": "stdout",
     "output_type": "stream",
     "text": [
      "-------------------------------------------\n",
      "       QLBS Put Option Pricing (DP solution)      \n",
      "-------------------------------------------\n",
      "\n",
      "Initial Stock Price:      100\n",
      "Drift of Stock:           0.05\n",
      "Volatility of Stock:      0.15\n",
      "Risk-free Rate:           0.04\n",
      "Risk aversion parameter:  0.001\n",
      "Trans Cost parameter:     0\n",
      "Strike:                   100\n",
      "Maturity:                 1\n",
      "\n",
      "QLBS Put Price:           6.8046\n",
      "\n",
      "Black-Sholes Put Price:   4.1075\n",
      "\n",
      "\n"
     ]
    }
   ],
   "source": [
    "# QLBS option price\n",
    "C_QLBS = - Q.copy()\n",
    "\n",
    "print('-------------------------------------------')\n",
    "print(f'       QLBS {opt_type} Option Pricing (DP solution)      ')\n",
    "print('-------------------------------------------\\n')\n",
    "print('%-25s' % ('Initial Stock Price:'), S0)\n",
    "print('%-25s' % ('Drift of Stock:'), mu)\n",
    "print('%-25s' % ('Volatility of Stock:'), sigma)\n",
    "print('%-25s' % ('Risk-free Rate:'), r)\n",
    "print('%-25s' % ('Risk aversion parameter: '), risk_lambda)\n",
    "print('%-25s' % ('Trans Cost parameter: '), epsilon)\n",
    "print('%-25s' % ('Strike:'), K)\n",
    "print('%-25s' % ('Maturity:'), M)\n",
    "print('%-26s %.4f' % ('\\nQLBS Put Price: ', C_QLBS.iloc[0,0]))\n",
    "print('%-26s %.4f' % ('\\nBlack-Sholes Put Price:', bs_price(0)))\n",
    "print('\\n')\n",
    "\n",
    "# plot_tool(C_QLBS, idx_plot, 'Put Price', f'QLBS {opt_type} Option Price')"
   ]
  },
  {
   "cell_type": "code",
   "execution_count": 96,
   "metadata": {},
   "outputs": [
    {
     "data": {
      "text/html": [
       "<div>\n",
       "<style scoped>\n",
       "    .dataframe tbody tr th:only-of-type {\n",
       "        vertical-align: middle;\n",
       "    }\n",
       "\n",
       "    .dataframe tbody tr th {\n",
       "        vertical-align: top;\n",
       "    }\n",
       "\n",
       "    .dataframe thead th {\n",
       "        text-align: right;\n",
       "    }\n",
       "</style>\n",
       "<table border=\"1\" class=\"dataframe\">\n",
       "  <thead>\n",
       "    <tr style=\"text-align: right;\">\n",
       "      <th></th>\n",
       "      <th>0</th>\n",
       "      <th>1</th>\n",
       "      <th>2</th>\n",
       "      <th>3</th>\n",
       "      <th>4</th>\n",
       "    </tr>\n",
       "  </thead>\n",
       "  <tbody>\n",
       "    <tr>\n",
       "      <th>1</th>\n",
       "      <td>-6.804599</td>\n",
       "      <td>-5.105960</td>\n",
       "      <td>-4.520750</td>\n",
       "      <td>-7.685096</td>\n",
       "      <td>-0.091090</td>\n",
       "    </tr>\n",
       "    <tr>\n",
       "      <th>2</th>\n",
       "      <td>-6.804599</td>\n",
       "      <td>-7.805993</td>\n",
       "      <td>-9.148587</td>\n",
       "      <td>-8.077298</td>\n",
       "      <td>-0.091090</td>\n",
       "    </tr>\n",
       "    <tr>\n",
       "      <th>3</th>\n",
       "      <td>-6.804599</td>\n",
       "      <td>-8.350483</td>\n",
       "      <td>-6.536111</td>\n",
       "      <td>-4.909028</td>\n",
       "      <td>-2.604430</td>\n",
       "    </tr>\n",
       "    <tr>\n",
       "      <th>4</th>\n",
       "      <td>-6.804599</td>\n",
       "      <td>-6.220384</td>\n",
       "      <td>-9.276146</td>\n",
       "      <td>-14.403632</td>\n",
       "      <td>-22.842325</td>\n",
       "    </tr>\n",
       "  </tbody>\n",
       "</table>\n",
       "</div>"
      ],
      "text/plain": [
       "          0         1         2          3          4\n",
       "1 -6.804599 -5.105960 -4.520750  -7.685096  -0.091090\n",
       "2 -6.804599 -7.805993 -9.148587  -8.077298  -0.091090\n",
       "3 -6.804599 -8.350483 -6.536111  -4.909028  -2.604430\n",
       "4 -6.804599 -6.220384 -9.276146 -14.403632 -22.842325"
      ]
     },
     "execution_count": 96,
     "metadata": {},
     "output_type": "execute_result"
    }
   ],
   "source": [
    "Q"
   ]
  },
  {
   "cell_type": "code",
   "execution_count": 97,
   "metadata": {},
   "outputs": [
    {
     "data": {
      "text/html": [
       "<div>\n",
       "<style scoped>\n",
       "    .dataframe tbody tr th:only-of-type {\n",
       "        vertical-align: middle;\n",
       "    }\n",
       "\n",
       "    .dataframe tbody tr th {\n",
       "        vertical-align: top;\n",
       "    }\n",
       "\n",
       "    .dataframe thead th {\n",
       "        text-align: right;\n",
       "    }\n",
       "</style>\n",
       "<table border=\"1\" class=\"dataframe\">\n",
       "  <thead>\n",
       "    <tr style=\"text-align: right;\">\n",
       "      <th></th>\n",
       "      <th>0</th>\n",
       "      <th>1</th>\n",
       "      <th>2</th>\n",
       "      <th>3</th>\n",
       "      <th>4</th>\n",
       "    </tr>\n",
       "  </thead>\n",
       "  <tbody>\n",
       "    <tr>\n",
       "      <th>1</th>\n",
       "      <td>-0.083183</td>\n",
       "      <td>-0.282601</td>\n",
       "      <td>0.620100</td>\n",
       "      <td>-0.735793</td>\n",
       "      <td>0.0</td>\n",
       "    </tr>\n",
       "    <tr>\n",
       "      <th>2</th>\n",
       "      <td>-0.083183</td>\n",
       "      <td>-0.127663</td>\n",
       "      <td>-0.184325</td>\n",
       "      <td>-0.904616</td>\n",
       "      <td>0.0</td>\n",
       "    </tr>\n",
       "    <tr>\n",
       "      <th>3</th>\n",
       "      <td>-0.083183</td>\n",
       "      <td>-0.225529</td>\n",
       "      <td>0.287546</td>\n",
       "      <td>0.582509</td>\n",
       "      <td>0.0</td>\n",
       "    </tr>\n",
       "    <tr>\n",
       "      <th>4</th>\n",
       "      <td>-0.083183</td>\n",
       "      <td>-0.149775</td>\n",
       "      <td>-0.487243</td>\n",
       "      <td>-2.460365</td>\n",
       "      <td>0.0</td>\n",
       "    </tr>\n",
       "  </tbody>\n",
       "</table>\n",
       "</div>"
      ],
      "text/plain": [
       "          0         1         2         3    4\n",
       "1 -0.083183 -0.282601  0.620100 -0.735793  0.0\n",
       "2 -0.083183 -0.127663 -0.184325 -0.904616  0.0\n",
       "3 -0.083183 -0.225529  0.287546  0.582509  0.0\n",
       "4 -0.083183 -0.149775 -0.487243 -2.460365  0.0"
      ]
     },
     "execution_count": 97,
     "metadata": {},
     "output_type": "execute_result"
    }
   ],
   "source": [
    "a"
   ]
  },
  {
   "cell_type": "code",
   "execution_count": null,
   "metadata": {},
   "outputs": [],
   "source": []
  }
 ],
 "metadata": {
  "kernelspec": {
   "display_name": "Python 3 (ipykernel)",
   "language": "python",
   "name": "python3"
  },
  "language_info": {
   "codemirror_mode": {
    "name": "ipython",
    "version": 3
   },
   "file_extension": ".py",
   "mimetype": "text/x-python",
   "name": "python",
   "nbconvert_exporter": "python",
   "pygments_lexer": "ipython3",
   "version": "3.8.19"
  }
 },
 "nbformat": 4,
 "nbformat_minor": 4
}
